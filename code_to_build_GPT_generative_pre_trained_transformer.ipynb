{
  "nbformat": 4,
  "nbformat_minor": 0,
  "metadata": {
    "colab": {
      "provenance": [],
      "toc_visible": true,
      "authorship_tag": "ABX9TyOyiTY+neTKghtzZHc4wCgH"
    },
    "kernelspec": {
      "name": "python3",
      "display_name": "Python 3"
    },
    "language_info": {
      "name": "python"
    }
  },
  "cells": [
    {
      "cell_type": "code",
      "execution_count": null,
      "metadata": {
        "id": "mq9cyX9Grz3O"
      },
      "outputs": [],
      "source": [
        "# Load libraries"
      ]
    },
    {
      "cell_type": "code",
      "source": [
        "# Read in the dataset to train on\n",
        "with open(\"\")"
      ],
      "metadata": {
        "id": "kMGEdVxLSsCw"
      },
      "execution_count": null,
      "outputs": []
    }
  ]
}