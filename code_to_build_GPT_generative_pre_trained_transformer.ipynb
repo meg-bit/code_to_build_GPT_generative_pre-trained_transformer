{
  "nbformat": 4,
  "nbformat_minor": 0,
  "metadata": {
    "colab": {
      "provenance": [],
      "mount_file_id": "1JjNfGG0Fjkm99Ty60qjlpyEVLsOcBMcl",
      "authorship_tag": "ABX9TyNJHuqoHENvZrh3YN9SzZBx"
    },
    "kernelspec": {
      "name": "python3",
      "display_name": "Python 3"
    },
    "language_info": {
      "name": "python"
    }
  },
  "cells": [
    {
      "cell_type": "code",
      "execution_count": null,
      "metadata": {
        "id": "mq9cyX9Grz3O",
        "colab": {
          "base_uri": "https://localhost:8080/"
        },
        "outputId": "5e24a1bf-7fde-4cd8-bee4-cceaf9efad79"
      },
      "outputs": [
        {
          "output_type": "stream",
          "name": "stdout",
          "text": [
            "/content\n"
          ]
        }
      ],
      "source": [
        "!pwd\n",
        "# Load libraries\n",
        "import torch\n",
        "import torch.nn as nn\n",
        "from torch.nn import functional as F"
      ]
    },
    {
      "cell_type": "code",
      "source": [
        "# Read in the dataset to train on\n",
        "with open(\"drive/MyDrive/data/input.txt\", \"r\", encoding=\"utf-8\") as f:\n",
        "  text = f.read()"
      ],
      "metadata": {
        "id": "kMGEdVxLSsCw"
      },
      "execution_count": null,
      "outputs": []
    },
    {
      "cell_type": "code",
      "source": [
        "print(\"Length of data in characters: \", len(text))"
      ],
      "metadata": {
        "colab": {
          "base_uri": "https://localhost:8080/"
        },
        "id": "b5XqM504XF3u",
        "outputId": "dba189c0-86b2-4e0f-ae32-307e04680a14"
      },
      "execution_count": null,
      "outputs": [
        {
          "output_type": "stream",
          "name": "stdout",
          "text": [
            "Length of data in characters:  1115394\n"
          ]
        }
      ]
    },
    {
      "cell_type": "code",
      "source": [
        "# Get unique characters\n",
        "chars = sorted(list(set(text)))\n",
        "print(\"\".join(chars))"
      ],
      "metadata": {
        "colab": {
          "base_uri": "https://localhost:8080/"
        },
        "id": "aDo64SkkXUHT",
        "outputId": "f89456c6-2987-46c6-d585-2cc64b81ea94"
      },
      "execution_count": null,
      "outputs": [
        {
          "output_type": "stream",
          "name": "stdout",
          "text": [
            "\n",
            " !$&',-.3:;?ABCDEFGHIJKLMNOPQRSTUVWXYZabcdefghijklmnopqrstuvwxyz\n",
            "65\n"
          ]
        }
      ]
    },
    {
      "cell_type": "code",
      "source": [
        "# Map characters to integers (can use tiktoken library to do this)\n",
        "stoi = {ch:i for i,ch in enumerate(chars)}\n",
        "itos = {i:ch for i,ch in enumerate(chars)}\n",
        "# Encoder: take a string; output a list of integers\n",
        "encode = lambda s: [stoi[c] for c in s]\n",
        "# Decoder: take a list of integers, output a string\n",
        "decode = lambda l: \"\".join(itos[i] for i in l)\n",
        "# Test the encoder and decoder\n",
        "print(encode(\"Hello!\"))\n",
        "print(decode(encode(\"Hello!\")))"
      ],
      "metadata": {
        "colab": {
          "base_uri": "https://localhost:8080/"
        },
        "id": "JJ41HhPkYwpi",
        "outputId": "9e9868be-8ae7-4b65-b310-62b90d3580e1"
      },
      "execution_count": null,
      "outputs": [
        {
          "output_type": "stream",
          "name": "stdout",
          "text": [
            "[20, 43, 50, 50, 53, 2]\n",
            "Hello!\n"
          ]
        }
      ]
    },
    {
      "cell_type": "code",
      "source": [
        "# Encode the whole text dataset and store it in a torch.Tensor\n",
        "data = torch.tensor(encode(text), dtype=torch.long)\n",
        "print(data.shape, data.dtype)\n",
        "print(data[:10])"
      ],
      "metadata": {
        "colab": {
          "base_uri": "https://localhost:8080/"
        },
        "id": "fU9nxgk0jf9K",
        "outputId": "c4b4d7eb-f2ef-4fcc-b67a-7a9d68fa52aa"
      },
      "execution_count": null,
      "outputs": [
        {
          "output_type": "stream",
          "name": "stdout",
          "text": [
            "torch.Size([1115394]) torch.int64\n",
            "tensor([18, 47, 56, 57, 58,  1, 15, 47, 58, 47])\n"
          ]
        }
      ]
    },
    {
      "cell_type": "code",
      "source": [
        "# Split the data into training and validation data\n",
        "n = int(0.9*len(data)) # 90% for training data\n",
        "train_data = data[:n]\n",
        "val_data = data[n:]"
      ],
      "metadata": {
        "id": "abF81BoUmMK8"
      },
      "execution_count": null,
      "outputs": []
    },
    {
      "cell_type": "code",
      "source": [
        "# Train train_data with the transformer - time dimension\n",
        "# To avoid being computationally expensive, train with chunks of the dataset\n",
        "block_size = 8\n",
        "x = train_data[:block_size] # characters of block_size\n",
        "y = train_data[1:block_size+1] # the next block_size characters\n",
        "for t in range(block_size):\n",
        "  context = x[:t+1] # make the transformer see from a character to block_size\n",
        "  target = y[t]\n",
        "  print(f\"When the input is {context}, the target is: {target}\")"
      ],
      "metadata": {
        "colab": {
          "base_uri": "https://localhost:8080/"
        },
        "id": "isUEKzxwm-2_",
        "outputId": "58b4db30-c911-48cf-de84-af004d76712c"
      },
      "execution_count": null,
      "outputs": [
        {
          "output_type": "stream",
          "name": "stdout",
          "text": [
            "When the input is tensor([18]), the target is: 47\n",
            "When the input is tensor([18, 47]), the target is: 56\n",
            "When the input is tensor([18, 47, 56]), the target is: 57\n",
            "When the input is tensor([18, 47, 56, 57]), the target is: 58\n",
            "When the input is tensor([18, 47, 56, 57, 58]), the target is: 1\n",
            "When the input is tensor([18, 47, 56, 57, 58,  1]), the target is: 15\n",
            "When the input is tensor([18, 47, 56, 57, 58,  1, 15]), the target is: 47\n",
            "When the input is tensor([18, 47, 56, 57, 58,  1, 15, 47]), the target is: 58\n"
          ]
        }
      ]
    },
    {
      "cell_type": "code",
      "source": [
        "# Batch dimension (for parallel processing)\n",
        "# Separate train_data randomly\n",
        "torch.manual_seed(1105)\n",
        "batch_size = 4 # num of independent sequences to process in parallel\n",
        "block_size = 8\n",
        "\n",
        "def get_batch(split, train_data=train_data, val_data=val_data):\n",
        "  \"\"\"Generate a small bach of inputs x and targets y.\"\"\"\n",
        "  data = train_data if split == \"train\" else val_data\n",
        "  # Generate random numbers of length of (len(data) - block_size)\n",
        "  # with batch_size num of offsets\n",
        "  ix = torch.randint(len(data) - block_size, (batch_size,))\n",
        "  x = torch.stack([data[i:i+block_size] for i in ix])\n",
        "  # y is offset by 1 compared to x\n",
        "  y = torch.stack([data[i+1:i+block_size+1] for i in ix])\n",
        "  return x, y\n",
        "xb, yb = get_batch(\"train\", train_data=train_data, val_data=val_data)\n",
        "print(\"Inputs to the transformer: \")\n",
        "print(xb.shape)\n",
        "print(xb)\n",
        "print(\"Targets: \")\n",
        "print(yb.shape)\n",
        "print(yb)"
      ],
      "metadata": {
        "colab": {
          "base_uri": "https://localhost:8080/"
        },
        "id": "HOW6TPpApc5e",
        "outputId": "c17556bd-3a4a-4e04-d161-36670441a89f"
      },
      "execution_count": null,
      "outputs": [
        {
          "output_type": "stream",
          "name": "stdout",
          "text": [
            "Inputs: \n",
            "torch.Size([4, 8])\n",
            "tensor([[43, 42,  1, 51, 43,  1, 40, 56],\n",
            "        [ 8,  0, 26, 53, 61,  1, 54, 59],\n",
            "        [21,  6,  1, 58, 53,  1, 51, 39],\n",
            "        [58,  1, 40, 47, 58, 58, 43, 56]])\n",
            "Targets: \n",
            "torch.Size([4, 8])\n",
            "tensor([[42,  1, 51, 43,  1, 40, 56, 53],\n",
            "        [ 0, 26, 53, 61,  1, 54, 59, 58],\n",
            "        [ 6,  1, 58, 53,  1, 51, 39, 49],\n",
            "        [ 1, 40, 47, 58, 58, 43, 56, 50]])\n"
          ]
        }
      ]
    },
    {
      "cell_type": "code",
      "source": [
        "for b in range(batch_size): # batch dimension\n",
        "  for t in range(block_size): # time dimension\n",
        "    context = xb[b, :t+1]\n",
        "    target = yb[b, t]\n",
        "    print(f\"When the input is {context}, the target is: {target}\")"
      ],
      "metadata": {
        "colab": {
          "base_uri": "https://localhost:8080/"
        },
        "id": "M5OLkH0p7xJQ",
        "outputId": "6c4594c0-ff3b-464f-f088-78a77af5c9dd"
      },
      "execution_count": null,
      "outputs": [
        {
          "output_type": "stream",
          "name": "stdout",
          "text": [
            "When the input is tensor([24]), the target is: 43\n",
            "When the input is tensor([24, 43]), the target is: 58\n",
            "When the input is tensor([24, 43, 58]), the target is: 5\n",
            "When the input is tensor([24, 43, 58,  5]), the target is: 57\n",
            "When the input is tensor([24, 43, 58,  5, 57]), the target is: 1\n",
            "When the input is tensor([24, 43, 58,  5, 57,  1]), the target is: 46\n",
            "When the input is tensor([24, 43, 58,  5, 57,  1, 46]), the target is: 43\n",
            "When the input is tensor([24, 43, 58,  5, 57,  1, 46, 43]), the target is: 39\n",
            "When the input is tensor([44]), the target is: 53\n",
            "When the input is tensor([44, 53]), the target is: 56\n",
            "When the input is tensor([44, 53, 56]), the target is: 1\n",
            "When the input is tensor([44, 53, 56,  1]), the target is: 58\n",
            "When the input is tensor([44, 53, 56,  1, 58]), the target is: 46\n",
            "When the input is tensor([44, 53, 56,  1, 58, 46]), the target is: 39\n",
            "When the input is tensor([44, 53, 56,  1, 58, 46, 39]), the target is: 58\n",
            "When the input is tensor([44, 53, 56,  1, 58, 46, 39, 58]), the target is: 1\n",
            "When the input is tensor([52]), the target is: 58\n",
            "When the input is tensor([52, 58]), the target is: 1\n",
            "When the input is tensor([52, 58,  1]), the target is: 58\n",
            "When the input is tensor([52, 58,  1, 58]), the target is: 46\n",
            "When the input is tensor([52, 58,  1, 58, 46]), the target is: 39\n",
            "When the input is tensor([52, 58,  1, 58, 46, 39]), the target is: 58\n",
            "When the input is tensor([52, 58,  1, 58, 46, 39, 58]), the target is: 1\n",
            "When the input is tensor([52, 58,  1, 58, 46, 39, 58,  1]), the target is: 46\n",
            "When the input is tensor([25]), the target is: 17\n",
            "When the input is tensor([25, 17]), the target is: 27\n",
            "When the input is tensor([25, 17, 27]), the target is: 10\n",
            "When the input is tensor([25, 17, 27, 10]), the target is: 0\n",
            "When the input is tensor([25, 17, 27, 10,  0]), the target is: 21\n",
            "When the input is tensor([25, 17, 27, 10,  0, 21]), the target is: 1\n",
            "When the input is tensor([25, 17, 27, 10,  0, 21,  1]), the target is: 54\n",
            "When the input is tensor([25, 17, 27, 10,  0, 21,  1, 54]), the target is: 39\n"
          ]
        }
      ]
    },
    {
      "cell_type": "code",
      "source": [
        "torch.manual_seed(1105)\n",
        "vocab_size = len(chars)\n",
        "\n",
        "class BigramLanguageModel(nn.Module):\n",
        "\n",
        "  def __init__(self, vocab_size):\n",
        "    super().__init__()\n",
        "    # Each token reads off the logits for next token from a lookup table\n",
        "    self.token_embedding_table = nn.Embedding(vocab_size, vocab_size)\n",
        "\n",
        "  def forward(self, idx, targets):\n",
        "    # idx and targets are both (B, T) tensor of integers\n",
        "    logits = self.token_embedding_table(idx) # (B, T, C)\n",
        "    return logits\n",
        "\n",
        "m = BigramLanguageModel(vocab_size)\n",
        "out = m(xb, yb)\n",
        "print(out.shape)"
      ],
      "metadata": {
        "id": "bk__lIPsjiAk"
      },
      "execution_count": null,
      "outputs": []
    }
  ]
}