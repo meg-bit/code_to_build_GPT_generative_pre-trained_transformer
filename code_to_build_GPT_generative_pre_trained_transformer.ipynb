{
  "nbformat": 4,
  "nbformat_minor": 0,
  "metadata": {
    "colab": {
      "provenance": [],
      "mount_file_id": "1JjNfGG0Fjkm99Ty60qjlpyEVLsOcBMcl",
      "authorship_tag": "ABX9TyMK9x+Ze/1eyiUWnFpY8JcT"
    },
    "kernelspec": {
      "name": "python3",
      "display_name": "Python 3"
    },
    "language_info": {
      "name": "python"
    }
  },
  "cells": [
    {
      "cell_type": "code",
      "execution_count": 1,
      "metadata": {
        "id": "mq9cyX9Grz3O",
        "colab": {
          "base_uri": "https://localhost:8080/"
        },
        "outputId": "00da2bd4-3a7b-42a8-d9ab-0679af24bf4c"
      },
      "outputs": [
        {
          "output_type": "stream",
          "name": "stdout",
          "text": [
            "/content\n"
          ]
        }
      ],
      "source": [
        "# Load libraries\n",
        "!pwd"
      ]
    },
    {
      "cell_type": "code",
      "source": [
        "# Read in the dataset to train on\n",
        "with open(\"drive/MyDrive/data/input.txt\", \"r\", encoding=\"utf-8\") as f:\n",
        "  text = f.read()"
      ],
      "metadata": {
        "id": "kMGEdVxLSsCw"
      },
      "execution_count": 2,
      "outputs": []
    },
    {
      "cell_type": "code",
      "source": [
        "print(\"Length of data in characters: \", len(text))"
      ],
      "metadata": {
        "colab": {
          "base_uri": "https://localhost:8080/"
        },
        "id": "b5XqM504XF3u",
        "outputId": "722d2cd6-3bf3-40cf-c1c7-2747d0e60ace"
      },
      "execution_count": 3,
      "outputs": [
        {
          "output_type": "stream",
          "name": "stdout",
          "text": [
            "Length of data in characters:  1115394\n"
          ]
        }
      ]
    },
    {
      "cell_type": "code",
      "source": [
        "# Get the size of the list of unique characters\n",
        "chars = sorted(list(set(text))) # get unique characters\n",
        "vocab_size = len(chars)\n",
        "print(\"\".join(chars))\n",
        "print(vocab_size)"
      ],
      "metadata": {
        "colab": {
          "base_uri": "https://localhost:8080/"
        },
        "id": "aDo64SkkXUHT",
        "outputId": "ce9b6f45-30ca-42b6-ddde-f3846eee13a8"
      },
      "execution_count": 4,
      "outputs": [
        {
          "output_type": "stream",
          "name": "stdout",
          "text": [
            "\n",
            " !$&',-.3:;?ABCDEFGHIJKLMNOPQRSTUVWXYZabcdefghijklmnopqrstuvwxyz\n",
            "65\n"
          ]
        }
      ]
    },
    {
      "cell_type": "code",
      "source": [
        "# Map characters to integers\n",
        "stoi = {ch:i for i,ch in enumerate(chars)}\n",
        "itos = {i:ch for i,ch in enumerate(chars)}\n",
        "# Encoder: take a string; output a list of integers\n",
        "encode = lambda s: [stoic[c] for c in s]\n",
        "# Decoder: take a list of integers, output a string\n",
        "decode = lambda l: \"\".join(itos[i] for i in l)"
      ],
      "metadata": {
        "id": "JJ41HhPkYwpi"
      },
      "execution_count": null,
      "outputs": []
    }
  ]
}