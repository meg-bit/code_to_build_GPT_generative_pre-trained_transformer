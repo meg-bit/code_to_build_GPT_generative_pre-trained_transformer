{
  "nbformat": 4,
  "nbformat_minor": 0,
  "metadata": {
    "colab": {
      "provenance": [],
      "mount_file_id": "1JjNfGG0Fjkm99Ty60qjlpyEVLsOcBMcl",
      "authorship_tag": "ABX9TyNmm8/cx/3icymDzU9upKlR"
    },
    "kernelspec": {
      "name": "python3",
      "display_name": "Python 3"
    },
    "language_info": {
      "name": "python"
    }
  },
  "cells": [
    {
      "cell_type": "code",
      "execution_count": 1,
      "metadata": {
        "id": "mq9cyX9Grz3O",
        "colab": {
          "base_uri": "https://localhost:8080/"
        },
        "outputId": "37c629a9-7405-4463-8652-f1f951f83e4c"
      },
      "outputs": [
        {
          "output_type": "stream",
          "name": "stdout",
          "text": [
            "/content\n"
          ]
        }
      ],
      "source": [
        "!pwd\n",
        "# Load libraries\n",
        "import torch\n",
        "import torch.nn as nn\n",
        "from torch.nn import functional as F\n",
        "import numpy as np"
      ]
    },
    {
      "cell_type": "code",
      "source": [
        "# Read in the dataset to train on\n",
        "with open(\"drive/MyDrive/data/input.txt\", \"r\", encoding=\"utf-8\") as f:\n",
        "  text = f.read()"
      ],
      "metadata": {
        "id": "kMGEdVxLSsCw"
      },
      "execution_count": 2,
      "outputs": []
    },
    {
      "cell_type": "code",
      "source": [
        "print(\"Length of data in characters: \", len(text))"
      ],
      "metadata": {
        "colab": {
          "base_uri": "https://localhost:8080/"
        },
        "id": "b5XqM504XF3u",
        "outputId": "d1932c7c-3a29-48e6-e6fa-4ecd4ec063b7"
      },
      "execution_count": 3,
      "outputs": [
        {
          "output_type": "stream",
          "name": "stdout",
          "text": [
            "Length of data in characters:  1115394\n"
          ]
        }
      ]
    },
    {
      "cell_type": "code",
      "source": [
        "# Get unique characters\n",
        "chars = sorted(list(set(text)))\n",
        "print(\"\".join(chars))"
      ],
      "metadata": {
        "colab": {
          "base_uri": "https://localhost:8080/"
        },
        "id": "aDo64SkkXUHT",
        "outputId": "e8edc53d-9411-4823-d1ef-d55a71b347e0"
      },
      "execution_count": 4,
      "outputs": [
        {
          "output_type": "stream",
          "name": "stdout",
          "text": [
            "\n",
            " !$&',-.3:;?ABCDEFGHIJKLMNOPQRSTUVWXYZabcdefghijklmnopqrstuvwxyz\n"
          ]
        }
      ]
    },
    {
      "cell_type": "code",
      "source": [
        "# Map characters to integers (can use tiktoken library to do this)\n",
        "# Here, tokenization is by character\n",
        "# In practice, it is likely by parts of words\n",
        "stoi = {ch:i for i,ch in enumerate(chars)}\n",
        "itos = {i:ch for i,ch in enumerate(chars)}\n",
        "# Encoder: take a string; output a list of integers\n",
        "encode = lambda s: [stoi[c] for c in s]\n",
        "# Decoder: take a list of integers, output a string\n",
        "decode = lambda l: \"\".join(itos[i] for i in l)\n",
        "# Test the encoder and decoder\n",
        "print(encode(\"Hello!\"))\n",
        "print(decode(encode(\"Hello!\")))"
      ],
      "metadata": {
        "colab": {
          "base_uri": "https://localhost:8080/"
        },
        "id": "JJ41HhPkYwpi",
        "outputId": "06a96736-1fbf-4d7c-aec0-a0a5061f790e"
      },
      "execution_count": 5,
      "outputs": [
        {
          "output_type": "stream",
          "name": "stdout",
          "text": [
            "[20, 43, 50, 50, 53, 2]\n",
            "Hello!\n"
          ]
        }
      ]
    },
    {
      "cell_type": "code",
      "source": [
        "# Encode the whole text dataset and store it in a torch.Tensor\n",
        "data = torch.tensor(encode(text), dtype=torch.long)\n",
        "print(data.shape, data.dtype)\n",
        "print(data[:10])"
      ],
      "metadata": {
        "colab": {
          "base_uri": "https://localhost:8080/"
        },
        "id": "fU9nxgk0jf9K",
        "outputId": "33f9233b-b2fa-4f7c-a584-8b769b61fa02"
      },
      "execution_count": 6,
      "outputs": [
        {
          "output_type": "stream",
          "name": "stdout",
          "text": [
            "torch.Size([1115394]) torch.int64\n",
            "tensor([18, 47, 56, 57, 58,  1, 15, 47, 58, 47])\n"
          ]
        }
      ]
    },
    {
      "cell_type": "code",
      "source": [
        "# Split the data into training and validation data\n",
        "n = int(0.9*len(data)) # 90% for training data\n",
        "train_data = data[:n]\n",
        "val_data = data[n:]"
      ],
      "metadata": {
        "id": "abF81BoUmMK8"
      },
      "execution_count": 7,
      "outputs": []
    },
    {
      "cell_type": "code",
      "source": [
        "# Train train_data with the transformer - time dimension\n",
        "# To avoid being computationally expensive, train with chunks of the dataset\n",
        "block_size = 8\n",
        "x = train_data[:block_size] # characters of block_size\n",
        "y = train_data[1:block_size+1] # the next block_size characters\n",
        "for t in range(block_size):\n",
        "  context = x[:t+1] # make the transformer see from a character to block_size\n",
        "  target = y[t]\n",
        "  print(f\"When the input is {context}, the target is: {target}\")"
      ],
      "metadata": {
        "colab": {
          "base_uri": "https://localhost:8080/"
        },
        "id": "isUEKzxwm-2_",
        "outputId": "00de0c6f-833e-49f2-998f-9d9c4c7304f6"
      },
      "execution_count": 8,
      "outputs": [
        {
          "output_type": "stream",
          "name": "stdout",
          "text": [
            "When the input is tensor([18]), the target is: 47\n",
            "When the input is tensor([18, 47]), the target is: 56\n",
            "When the input is tensor([18, 47, 56]), the target is: 57\n",
            "When the input is tensor([18, 47, 56, 57]), the target is: 58\n",
            "When the input is tensor([18, 47, 56, 57, 58]), the target is: 1\n",
            "When the input is tensor([18, 47, 56, 57, 58,  1]), the target is: 15\n",
            "When the input is tensor([18, 47, 56, 57, 58,  1, 15]), the target is: 47\n",
            "When the input is tensor([18, 47, 56, 57, 58,  1, 15, 47]), the target is: 58\n"
          ]
        }
      ]
    },
    {
      "cell_type": "code",
      "source": [
        "# Batch dimension (for parallel processing)\n",
        "# Separate train_data randomly\n",
        "torch.manual_seed(1105)\n",
        "batch_size = 4 # num of independent sequences to process in parallel\n",
        "block_size = 8\n",
        "\n",
        "def get_batch(split, train_data=train_data, val_data=val_data):\n",
        "  \"\"\"Generate a small bach of inputs x and targets y.\"\"\"\n",
        "  data = train_data if split == \"train\" else val_data\n",
        "  # Generate random numbers of length of (len(data) - block_size)\n",
        "  # with batch_size num of offsets\n",
        "  ix = torch.randint(len(data) - block_size, (batch_size,))\n",
        "  x = torch.stack([data[i:i+block_size] for i in ix])\n",
        "  # y is offset by 1 compared to x\n",
        "  y = torch.stack([data[i+1:i+block_size+1] for i in ix])\n",
        "  return x, y\n",
        "xb, yb = get_batch(\"train\", train_data=train_data, val_data=val_data)\n",
        "print(\"Inputs to the transformer: \")\n",
        "print(xb.shape)\n",
        "print(xb)\n",
        "print(\"Targets: \")\n",
        "print(yb.shape)\n",
        "print(yb)"
      ],
      "metadata": {
        "colab": {
          "base_uri": "https://localhost:8080/"
        },
        "id": "HOW6TPpApc5e",
        "outputId": "3c294ee0-01f4-4a26-ee66-9c9cad59d078"
      },
      "execution_count": 9,
      "outputs": [
        {
          "output_type": "stream",
          "name": "stdout",
          "text": [
            "Inputs to the transformer: \n",
            "torch.Size([4, 8])\n",
            "tensor([[43, 42,  1, 51, 43,  1, 40, 56],\n",
            "        [ 8,  0, 26, 53, 61,  1, 54, 59],\n",
            "        [21,  6,  1, 58, 53,  1, 51, 39],\n",
            "        [58,  1, 40, 47, 58, 58, 43, 56]])\n",
            "Targets: \n",
            "torch.Size([4, 8])\n",
            "tensor([[42,  1, 51, 43,  1, 40, 56, 53],\n",
            "        [ 0, 26, 53, 61,  1, 54, 59, 58],\n",
            "        [ 6,  1, 58, 53,  1, 51, 39, 49],\n",
            "        [ 1, 40, 47, 58, 58, 43, 56, 50]])\n"
          ]
        }
      ]
    },
    {
      "cell_type": "code",
      "source": [
        "for b in range(batch_size): # batch dimension\n",
        "  for t in range(block_size): # time dimension\n",
        "    context = xb[b, :t+1]\n",
        "    target = yb[b, t]\n",
        "    print(f\"When the input is {context}, the target is: {target}\")"
      ],
      "metadata": {
        "colab": {
          "base_uri": "https://localhost:8080/"
        },
        "id": "M5OLkH0p7xJQ",
        "outputId": "a3ade2e9-4f88-43a3-8235-6392e2e4e67f"
      },
      "execution_count": 10,
      "outputs": [
        {
          "output_type": "stream",
          "name": "stdout",
          "text": [
            "When the input is tensor([43]), the target is: 42\n",
            "When the input is tensor([43, 42]), the target is: 1\n",
            "When the input is tensor([43, 42,  1]), the target is: 51\n",
            "When the input is tensor([43, 42,  1, 51]), the target is: 43\n",
            "When the input is tensor([43, 42,  1, 51, 43]), the target is: 1\n",
            "When the input is tensor([43, 42,  1, 51, 43,  1]), the target is: 40\n",
            "When the input is tensor([43, 42,  1, 51, 43,  1, 40]), the target is: 56\n",
            "When the input is tensor([43, 42,  1, 51, 43,  1, 40, 56]), the target is: 53\n",
            "When the input is tensor([8]), the target is: 0\n",
            "When the input is tensor([8, 0]), the target is: 26\n",
            "When the input is tensor([ 8,  0, 26]), the target is: 53\n",
            "When the input is tensor([ 8,  0, 26, 53]), the target is: 61\n",
            "When the input is tensor([ 8,  0, 26, 53, 61]), the target is: 1\n",
            "When the input is tensor([ 8,  0, 26, 53, 61,  1]), the target is: 54\n",
            "When the input is tensor([ 8,  0, 26, 53, 61,  1, 54]), the target is: 59\n",
            "When the input is tensor([ 8,  0, 26, 53, 61,  1, 54, 59]), the target is: 58\n",
            "When the input is tensor([21]), the target is: 6\n",
            "When the input is tensor([21,  6]), the target is: 1\n",
            "When the input is tensor([21,  6,  1]), the target is: 58\n",
            "When the input is tensor([21,  6,  1, 58]), the target is: 53\n",
            "When the input is tensor([21,  6,  1, 58, 53]), the target is: 1\n",
            "When the input is tensor([21,  6,  1, 58, 53,  1]), the target is: 51\n",
            "When the input is tensor([21,  6,  1, 58, 53,  1, 51]), the target is: 39\n",
            "When the input is tensor([21,  6,  1, 58, 53,  1, 51, 39]), the target is: 49\n",
            "When the input is tensor([58]), the target is: 1\n",
            "When the input is tensor([58,  1]), the target is: 40\n",
            "When the input is tensor([58,  1, 40]), the target is: 47\n",
            "When the input is tensor([58,  1, 40, 47]), the target is: 58\n",
            "When the input is tensor([58,  1, 40, 47, 58]), the target is: 58\n",
            "When the input is tensor([58,  1, 40, 47, 58, 58]), the target is: 43\n",
            "When the input is tensor([58,  1, 40, 47, 58, 58, 43]), the target is: 56\n",
            "When the input is tensor([58,  1, 40, 47, 58, 58, 43, 56]), the target is: 50\n"
          ]
        }
      ]
    },
    {
      "cell_type": "code",
      "source": [
        "# Class for the language model\n",
        "\n",
        "torch.manual_seed(1105)\n",
        "vocab_size = len(chars)\n",
        "\n",
        "class BigramLanguageModel(nn.Module):\n",
        "  \"\"\"Bigram language model\"\"\"\n",
        "  def __init__(self, vocab_size):\n",
        "    super().__init__()\n",
        "    # Each token reads off the logits for next token from a lookup table\n",
        "    self.token_embedding_table = nn.Embedding(vocab_size, vocab_size)\n",
        "\n",
        "  def forward(self, idx, targets):\n",
        "    \"\"\"Embed and evaluate the loss function\"\"\"\n",
        "    # idx and targets are both (B, T) tensor of integers\n",
        "    # batch by time by channel (channel is vocab_size)\n",
        "    logits = self.token_embedding_table(idx) # (B, T, C): torch.Size([4, 8, 65])\n",
        "    # Reshape logits/targets to match the requirements of F.cross_entropy function\n",
        "    B, T, C = logits.shape\n",
        "    logits = logits.view(B * T, C) # torch.Size([32, 65])\n",
        "    targets = targets.view(B * T)\n",
        "    # ---------\n",
        "    # Evaluate the loss funtion (negative log likelihood)\n",
        "    # The correct dimension of logits should have a high number\n",
        "    # And all other dimension should be low\n",
        "    loss = F.cross_entropy(logits, targets)\n",
        "    # ---------\n",
        "    return logits, loss\n",
        "\n",
        "  def generate(self, max_new_tokens):\n",
        "    \"\"\"A generate function to evaluate the quality of the model\"\"\"\n",
        "    # idx is (B, T) array of indecs in the current context\n",
        "    for _ in range(max_new_tokens):\n",
        "      # Get the predictions\n",
        "      logits, loss = self(idx)\n",
        "      # Focus only on the step last time\n",
        "      logits = logits[:, -1, :] # becomes (B, C)\n",
        "      # Apply sofmax to get probabilities\n",
        "      probs = F.softmax(logits, dim=-1) # (B, C)\n",
        "      # Sample from the distribution\n",
        "      idx_next = torch.multinomial(probs, num_samples=1) # (B, 1)\n",
        "      # Append sampled index to the running sequence\n",
        "      idx = torch.cat((idx, idx_next), dim=1) # (B, T+1)\n",
        "    return idx\n",
        "\n",
        "m = BigramLanguageModel(vocab_size)\n",
        "logits, loss = m(xb, yb)\n",
        "print(logits.shape)\n",
        "print(loss)"
      ],
      "metadata": {
        "id": "bk__lIPsjiAk",
        "colab": {
          "base_uri": "https://localhost:8080/"
        },
        "outputId": "041537cb-fb06-4a63-f23a-c0fbf8320d18"
      },
      "execution_count": 11,
      "outputs": [
        {
          "output_type": "stream",
          "name": "stdout",
          "text": [
            "torch.Size([32, 65])\n",
            "tensor(4.6513, grad_fn=<NllLossBackward0>)\n"
          ]
        }
      ]
    },
    {
      "cell_type": "code",
      "source": [
        "# Compare loss with the negative ln\n",
        "-np.log(1/vocab_size)"
      ],
      "metadata": {
        "colab": {
          "base_uri": "https://localhost:8080/"
        },
        "id": "a1tGvUuaQRCw",
        "outputId": "d58ccd4d-79e7-4311-a14d-08d8fa70d029"
      },
      "execution_count": 12,
      "outputs": [
        {
          "output_type": "execute_result",
          "data": {
            "text/plain": [
              "4.174387269895637"
            ]
          },
          "metadata": {},
          "execution_count": 12
        }
      ]
    },
    {
      "cell_type": "code",
      "source": [
        "# Self-attention\n",
        "torch.manual_seed(1105)\n",
        "B,T,C = 4,8,32 # batch, time, channels\n",
        "x = torch.randn(B,T,C)\n",
        "\n",
        "# A single head performing self-attention\n",
        "head_size = 16\n",
        "key = nn.Linear(C, head_size, biaz=False)\n",
        "query = nn.Linear(C, head_size, bias=False)\n",
        "value = nn.Linear(C, head_size, bias=False)\n",
        "k = key(x) # (B, T, 16)\n",
        "q = query(x) # (B, T, 16)\n",
        "wei  = q @ k.transpose(-2, -1) # (B, T, 16) @ (B, 16, T) -> (B, T, T)\n",
        "\n",
        "tril = torch.tril(torch.ones(T, T)) # lower triangle\n",
        "wei = wei.masked_fill(tril == 0, float(-inf))\n",
        "wei = F.softmax(wei. dim=1)\n",
        "\n",
        "v = value(x)\n",
        "out = wei @ v\n",
        "out.shape"
      ],
      "metadata": {
        "id": "RU6NEivbUJ5y"
      },
      "execution_count": 12,
      "outputs": []
    }
  ]
}